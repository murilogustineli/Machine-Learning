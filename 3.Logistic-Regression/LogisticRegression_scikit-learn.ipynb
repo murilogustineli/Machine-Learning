{
 "cells": [
  {
   "cell_type": "markdown",
   "id": "1aa3e8c5-2691-4ff0-9275-1512223554f7",
   "metadata": {},
   "source": [
    "# Logistic Regreesion with scikit-learn\n",
    "\n",
    "Logistic regression is another technique borrowed by machine learning from the field of statistics.\n",
    "\n",
    "It is the go-to method for **binary classification problems** (problems with two class values). \n",
    "\n",
    "I'll be using the [Iris dataset](https://scikit-learn.org/stable/auto_examples/datasets/plot_iris_dataset.html) to perform Logistic Regression.\n",
    "\n",
    "Scikit-learn's [Logistic Regression documentation](https://scikit-learn.org/stable/modules/generated/sklearn.linear_model.LogisticRegression.html)\n",
    "\n",
    "\n",
    "<br>\n",
    "\n",
    "#### Classification videos:\n",
    "- Data Professor: [Machine Learning in Python: Building a Classification Model](https://www.youtube.com/watch?v=XmSlFPDjKdc&ab_channel=DataProfessor)\n",
    "- Codebasics: [Machine Learning Tutorial Python - 8: Logistic Regression (Binary Classification)](https://www.youtube.com/watch?v=zM4VZR0px8E&ab_channel=codebasics)\n",
    "\n",
    "Learn more about Logistic Regression on the [Machine Learning Mastery](https://machinelearningmastery.com/logistic-regression-for-machine-learning/) website."
   ]
  },
  {
   "cell_type": "code",
   "execution_count": 1,
   "id": "063c05eb-7cc3-4b8c-ae74-5c3b07922cc6",
   "metadata": {},
   "outputs": [],
   "source": [
    "# Scikit-learn libraries\n",
    "from sklearn import datasets\n",
    "from sklearn.linear_model import LogisticRegression\n",
    "from sklearn.model_selection import train_test_split"
   ]
  },
  {
   "cell_type": "markdown",
   "id": "76446eaf-e2a5-42db-8f9a-33b045f262cb",
   "metadata": {},
   "source": [
    "## 1. Load dataset + Create X and Y data matrices"
   ]
  },
  {
   "cell_type": "code",
   "execution_count": 2,
   "id": "0bb71c52-4963-4c4f-94c2-94d3e3f6d4a8",
   "metadata": {},
   "outputs": [],
   "source": [
    "# Load iris dataset\n",
    "iris = datasets.load_iris()"
   ]
  },
  {
   "cell_type": "markdown",
   "id": "cffb76d1-ae47-4df8-92e5-7bf4fc1f2bce",
   "metadata": {},
   "source": [
    "## 2. Input vs Output features"
   ]
  },
  {
   "cell_type": "code",
   "execution_count": 3,
   "id": "00a16c46-21d1-4886-be46-a62014ef3660",
   "metadata": {},
   "outputs": [
    {
     "name": "stdout",
     "output_type": "stream",
     "text": [
      "['sepal length (cm)', 'sepal width (cm)', 'petal length (cm)', 'petal width (cm)']\n"
     ]
    }
   ],
   "source": [
    "# Feature names\n",
    "print(iris.feature_names)"
   ]
  },
  {
   "cell_type": "code",
   "execution_count": 4,
   "id": "d06422d0-02d4-4485-92dc-bd4af6e02ba6",
   "metadata": {},
   "outputs": [
    {
     "name": "stdout",
     "output_type": "stream",
     "text": [
      "['setosa' 'versicolor' 'virginica']\n"
     ]
    }
   ],
   "source": [
    "# Target names\n",
    "print(iris.target_names)"
   ]
  },
  {
   "cell_type": "code",
   "execution_count": 5,
   "id": "fc810ba7-91e4-467c-8af7-159357ef6981",
   "metadata": {},
   "outputs": [
    {
     "data": {
      "text/plain": [
       "array([[5.1, 3.5, 1.4, 0.2],\n",
       "       [4.9, 3. , 1.4, 0.2],\n",
       "       [4.7, 3.2, 1.3, 0.2],\n",
       "       [4.6, 3.1, 1.5, 0.2],\n",
       "       [5. , 3.6, 1.4, 0.2],\n",
       "       [5.4, 3.9, 1.7, 0.4],\n",
       "       [4.6, 3.4, 1.4, 0.3],\n",
       "       [5. , 3.4, 1.5, 0.2],\n",
       "       [4.4, 2.9, 1.4, 0.2],\n",
       "       [4.9, 3.1, 1.5, 0.1]])"
      ]
     },
     "execution_count": 5,
     "metadata": {},
     "output_type": "execute_result"
    }
   ],
   "source": [
    "# First 10 rows of iris data\n",
    "'''\n",
    "This is our X variable\n",
    "'''\n",
    "iris.data[:10, :]"
   ]
  },
  {
   "cell_type": "code",
   "execution_count": 6,
   "id": "d55d5fdd-2508-48c3-8216-57676a4ff381",
   "metadata": {},
   "outputs": [
    {
     "data": {
      "text/plain": [
       "array([0, 0, 0, 0, 0, 0, 0, 0, 0, 0, 0, 0, 0, 0, 0, 0, 0, 0, 0, 0, 0, 0,\n",
       "       0, 0, 0, 0, 0, 0, 0, 0, 0, 0, 0, 0, 0, 0, 0, 0, 0, 0, 0, 0, 0, 0,\n",
       "       0, 0, 0, 0, 0, 0, 1, 1, 1, 1, 1, 1, 1, 1, 1, 1, 1, 1, 1, 1, 1, 1,\n",
       "       1, 1, 1, 1, 1, 1, 1, 1, 1, 1, 1, 1, 1, 1, 1, 1, 1, 1, 1, 1, 1, 1,\n",
       "       1, 1, 1, 1, 1, 1, 1, 1, 1, 1, 1, 1, 2, 2, 2, 2, 2, 2, 2, 2, 2, 2,\n",
       "       2, 2, 2, 2, 2, 2, 2, 2, 2, 2, 2, 2, 2, 2, 2, 2, 2, 2, 2, 2, 2, 2,\n",
       "       2, 2, 2, 2, 2, 2, 2, 2, 2, 2, 2, 2, 2, 2, 2, 2, 2, 2])"
      ]
     },
     "execution_count": 6,
     "metadata": {},
     "output_type": "execute_result"
    }
   ],
   "source": [
    "# Iris target values\n",
    "'''\n",
    "This is our y variable\n",
    "'''\n",
    "iris.target"
   ]
  },
  {
   "cell_type": "markdown",
   "id": "93cb1cee-8e93-4bb3-bff1-2248680d985b",
   "metadata": {},
   "source": [
    "### 2.1 Assigning input and output variables"
   ]
  },
  {
   "cell_type": "code",
   "execution_count": 7,
   "id": "bb60b898-65a4-4a18-b490-8fa531eaf3dd",
   "metadata": {},
   "outputs": [],
   "source": [
    "X = iris.data\n",
    "y = iris.target"
   ]
  },
  {
   "cell_type": "markdown",
   "id": "5dc45c67-f405-47d0-a735-f773df74218d",
   "metadata": {},
   "source": [
    "### 2.2 Data dimensions"
   ]
  },
  {
   "cell_type": "code",
   "execution_count": 8,
   "id": "84261376-8630-4ba9-aaea-0c23dccd6511",
   "metadata": {},
   "outputs": [
    {
     "name": "stdout",
     "output_type": "stream",
     "text": [
      "X shape: (150, 4)\n",
      "y shape: (150,)\n"
     ]
    }
   ],
   "source": [
    "print('X shape:', X.shape)\n",
    "print('y shape:', y.shape)"
   ]
  },
  {
   "cell_type": "markdown",
   "id": "3f8e1585-b495-46ed-a2d8-7f1ca9492349",
   "metadata": {},
   "source": [
    "## 3. Build Classification Model using Logistic Regression"
   ]
  },
  {
   "cell_type": "code",
   "execution_count": 9,
   "id": "8a7e2838-e9c2-413e-a3e6-8cd862affaf2",
   "metadata": {},
   "outputs": [],
   "source": [
    "# Importing logistic regression model and setting number of iterations to 1000\n",
    "lr = LogisticRegression(max_iter=1000)"
   ]
  },
  {
   "cell_type": "code",
   "execution_count": 10,
   "id": "575797b9-d557-48ed-837b-3c202f783f32",
   "metadata": {},
   "outputs": [
    {
     "data": {
      "text/plain": [
       "LogisticRegression(max_iter=1000)"
      ]
     },
     "execution_count": 10,
     "metadata": {},
     "output_type": "execute_result"
    }
   ],
   "source": [
    "# Fit model\n",
    "lr.fit(X,y)"
   ]
  },
  {
   "cell_type": "markdown",
   "id": "61b97b10-627d-4d6f-9f69-cf35b31bfbb7",
   "metadata": {},
   "source": [
    "## 4. Coefficients and Intercept"
   ]
  },
  {
   "cell_type": "code",
   "execution_count": 11,
   "id": "a467139f-249c-4330-bb7f-32f1fe5eb21c",
   "metadata": {},
   "outputs": [
    {
     "name": "stdout",
     "output_type": "stream",
     "text": [
      "[[-0.42434519  0.96692807 -2.51720846 -1.07938946]\n",
      " [ 0.53499003 -0.32132698 -0.20620328 -0.94424639]\n",
      " [-0.11064484 -0.64560109  2.72341174  2.02363584]]\n"
     ]
    }
   ],
   "source": [
    "print(lr.coef_)"
   ]
  },
  {
   "cell_type": "code",
   "execution_count": 12,
   "id": "34a1232c-20ae-473b-b3a7-7cf56e235616",
   "metadata": {},
   "outputs": [
    {
     "name": "stdout",
     "output_type": "stream",
     "text": [
      "[  9.85512128   2.23277161 -12.08789289]\n"
     ]
    }
   ],
   "source": [
    "print(lr.intercept_)"
   ]
  },
  {
   "cell_type": "markdown",
   "id": "25db3391-1b2e-4baf-b7a1-1a6080f99528",
   "metadata": {},
   "source": [
    "## 5. Make prediction"
   ]
  },
  {
   "cell_type": "code",
   "execution_count": 13,
   "id": "def842ff-767e-4975-91ee-ac1290d6b6bf",
   "metadata": {},
   "outputs": [
    {
     "name": "stdout",
     "output_type": "stream",
     "text": [
      "[5.1 3.5 1.4 0.2]\n"
     ]
    }
   ],
   "source": [
    "print(X[0])"
   ]
  },
  {
   "cell_type": "code",
   "execution_count": 14,
   "id": "a30f99af-491f-42a0-b98d-de7b192bcfef",
   "metadata": {},
   "outputs": [
    {
     "name": "stdout",
     "output_type": "stream",
     "text": [
      "[0]\n"
     ]
    }
   ],
   "source": [
    "print(lr.predict(X[[0]]))"
   ]
  },
  {
   "cell_type": "code",
   "execution_count": 15,
   "id": "60cc860c-e994-4be8-8795-9f799d414fcf",
   "metadata": {},
   "outputs": [
    {
     "name": "stdout",
     "output_type": "stream",
     "text": [
      "[[9.81588489e-01 1.84114969e-02 1.45146963e-08]]\n"
     ]
    }
   ],
   "source": [
    "print(lr.predict_proba([X[0]]))"
   ]
  },
  {
   "cell_type": "markdown",
   "id": "a24c2724-647e-4b6a-bb41-b9463cc7264e",
   "metadata": {},
   "source": [
    "### 5.1. Rebuild model to see the names of the labels in the predictions"
   ]
  },
  {
   "cell_type": "code",
   "execution_count": 16,
   "id": "9afa0a9e-5451-4c5a-bd13-8b8225e80d0f",
   "metadata": {},
   "outputs": [
    {
     "data": {
      "text/plain": [
       "LogisticRegression(max_iter=1000)"
      ]
     },
     "execution_count": 16,
     "metadata": {},
     "output_type": "execute_result"
    }
   ],
   "source": [
    "lr.fit(iris.data, iris.target_names[iris.target])"
   ]
  },
  {
   "cell_type": "code",
   "execution_count": 17,
   "id": "c1a077aa-e255-4c74-a6ac-fbd26ae52950",
   "metadata": {},
   "outputs": [
    {
     "name": "stdout",
     "output_type": "stream",
     "text": [
      "['setosa']\n",
      "['virginica']\n"
     ]
    }
   ],
   "source": [
    "print(lr.predict(X[[0]]))\n",
    "print(lr.predict(X[[77]]))"
   ]
  },
  {
   "cell_type": "markdown",
   "id": "50291886-c602-446e-a152-4e120ea523bf",
   "metadata": {},
   "source": [
    "## 6. Data split (80/20 ratio)"
   ]
  },
  {
   "cell_type": "code",
   "execution_count": 18,
   "id": "f40d8fd3-6bc7-426d-baf6-63aa811f7dfb",
   "metadata": {},
   "outputs": [],
   "source": [
    "# Train/Test split\n",
    "X_train, X_test, y_train, y_test = train_test_split(X, y, test_size=0.2, random_state=1)"
   ]
  },
  {
   "cell_type": "code",
   "execution_count": 19,
   "id": "8c322fa9-c71f-41fd-8d7b-6a0ce3eb1727",
   "metadata": {},
   "outputs": [
    {
     "data": {
      "text/plain": [
       "((120, 4), (120,))"
      ]
     },
     "execution_count": 19,
     "metadata": {},
     "output_type": "execute_result"
    }
   ],
   "source": [
    "# 80% goes into the training set\n",
    "X_train.shape, y_train.shape"
   ]
  },
  {
   "cell_type": "code",
   "execution_count": 20,
   "id": "3722b514-bac7-49d1-9827-ecde48efd1ea",
   "metadata": {},
   "outputs": [
    {
     "data": {
      "text/plain": [
       "((30, 4), (30,))"
      ]
     },
     "execution_count": 20,
     "metadata": {},
     "output_type": "execute_result"
    }
   ],
   "source": [
    "# 20% goes into the test set\n",
    "X_test.shape, y_test.shape"
   ]
  },
  {
   "cell_type": "markdown",
   "id": "51e7c9c2-7547-4176-acec-f2f8ea134f9b",
   "metadata": {},
   "source": [
    "## 7. Rebuilding the Logistic Regression model"
   ]
  },
  {
   "cell_type": "code",
   "execution_count": 21,
   "id": "5cc3f146-6529-4d56-b47c-659e59466794",
   "metadata": {},
   "outputs": [
    {
     "data": {
      "text/plain": [
       "LogisticRegression(max_iter=1000)"
      ]
     },
     "execution_count": 21,
     "metadata": {},
     "output_type": "execute_result"
    }
   ],
   "source": [
    "lr.fit(X_train, y_train)"
   ]
  },
  {
   "cell_type": "markdown",
   "id": "aa0685b1-0839-4395-9cd7-83a8bfe2cd73",
   "metadata": {},
   "source": [
    "### 7.1. Perform prediction on single sample from the data set"
   ]
  },
  {
   "cell_type": "code",
   "execution_count": 22,
   "id": "d2679d42-1d69-427e-90b7-614c398ea98b",
   "metadata": {},
   "outputs": [
    {
     "name": "stdout",
     "output_type": "stream",
     "text": [
      "[0]\n"
     ]
    }
   ],
   "source": [
    "print(lr.predict([X[0]]))"
   ]
  },
  {
   "cell_type": "code",
   "execution_count": 23,
   "id": "989d20f5-6942-4410-9f35-001c528422d1",
   "metadata": {},
   "outputs": [
    {
     "name": "stdout",
     "output_type": "stream",
     "text": [
      "[[9.79095901e-01 2.09040102e-02 8.91877882e-08]]\n"
     ]
    }
   ],
   "source": [
    "print(lr.predict_proba([X[0]]))"
   ]
  },
  {
   "cell_type": "markdown",
   "id": "cf03066b-3ce8-4088-ad45-e05db1ddba0a",
   "metadata": {},
   "source": [
    "### 7.2. Perform prediction on the test set\n",
    "#### _Predicted class labels_"
   ]
  },
  {
   "cell_type": "code",
   "execution_count": 24,
   "id": "8fb2bbdd-1780-41a7-9388-f598da13f966",
   "metadata": {},
   "outputs": [
    {
     "name": "stdout",
     "output_type": "stream",
     "text": [
      "[0 1 1 0 2 1 2 0 0 2 1 0 2 1 1 0 1 1 0 0 1 1 2 0 2 1 0 0 1 2]\n"
     ]
    }
   ],
   "source": [
    "print(lr.predict(X_test))"
   ]
  },
  {
   "cell_type": "markdown",
   "id": "d1d9860d-1cdf-4484-846a-e1905f8dd2b3",
   "metadata": {},
   "source": [
    "#### _Actual class labels_"
   ]
  },
  {
   "cell_type": "code",
   "execution_count": 25,
   "id": "f167b3b0-e9d6-4706-974e-bfa0b6f9617c",
   "metadata": {},
   "outputs": [
    {
     "name": "stdout",
     "output_type": "stream",
     "text": [
      "[0 1 1 0 2 1 2 0 0 2 1 0 2 1 1 0 1 1 0 0 1 1 1 0 2 1 0 0 1 2]\n"
     ]
    }
   ],
   "source": [
    "print(y_test)"
   ]
  },
  {
   "cell_type": "markdown",
   "id": "35a0fbb3-21ed-47b2-8b10-2ffe78ee7ee6",
   "metadata": {},
   "source": [
    "## 8. Model Performance"
   ]
  },
  {
   "cell_type": "code",
   "execution_count": 26,
   "id": "01625942-9fc0-4289-8e5e-b74ab4863f8d",
   "metadata": {},
   "outputs": [
    {
     "name": "stdout",
     "output_type": "stream",
     "text": [
      "0.9666666666666667\n"
     ]
    }
   ],
   "source": [
    "print(lr.score(X_test, y_test))"
   ]
  },
  {
   "cell_type": "markdown",
   "id": "50233dba-491e-45c7-9958-256ea28c38b2",
   "metadata": {},
   "source": [
    "## 9. Comparing with Random Forest Classifier"
   ]
  },
  {
   "cell_type": "code",
   "execution_count": 27,
   "id": "7108efa6-0b82-45fc-8154-4b976da7fdea",
   "metadata": {},
   "outputs": [
    {
     "name": "stdout",
     "output_type": "stream",
     "text": [
      "0.9666666666666667\n"
     ]
    }
   ],
   "source": [
    "from sklearn.ensemble import RandomForestClassifier\n",
    "\n",
    "# Import model\n",
    "rf= RandomForestClassifier()\n",
    "\n",
    "# Fit model\n",
    "rf.fit(X_train, y_train)\n",
    "\n",
    "# Make prediction\n",
    "rf.predict(X_test)\n",
    "\n",
    "# Model Performance\n",
    "print(rf.score(X_test, y_test))"
   ]
  },
  {
   "cell_type": "markdown",
   "id": "0ec82769-9486-4e00-a949-a7e9229b7d65",
   "metadata": {},
   "source": [
    "# In Summary"
   ]
  },
  {
   "cell_type": "code",
   "execution_count": 29,
   "id": "a0fbdcca-9357-4aa9-9e4b-a7eecb298e33",
   "metadata": {},
   "outputs": [
    {
     "name": "stdout",
     "output_type": "stream",
     "text": [
      "Coefficients: [[-0.4345712   0.8243118  -2.35072311 -0.96749421]\n",
      " [ 0.61906814 -0.42736808 -0.20574344 -0.83176201]\n",
      " [-0.18449694 -0.39694372  2.55646655  1.79925622]]\n",
      "Intercept: [  9.50176119   1.63227362 -11.13403481]\n",
      "Score 0.9666666666666667\n"
     ]
    }
   ],
   "source": [
    "# Scikit-learn libraries\n",
    "from sklearn import datasets\n",
    "from sklearn.linear_model import LogisticRegression\n",
    "from sklearn.model_selection import train_test_split\n",
    "\n",
    "# Load iris dataset\n",
    "iris = datasets.load_iris()\n",
    "\n",
    "# Assigning input and output variables\n",
    "X = iris.data\n",
    "y = iris.target\n",
    "\n",
    "# TrainTest split\n",
    "X_train, X_test, y_train, y_test = train_test_split(X, y, test_size=0.2, random_state=1)\n",
    "\n",
    "# Logistic Regression model\n",
    "'''\n",
    "1. Define the logistic regression model\n",
    "2. Fit model\n",
    "3. Apply model to make prediction (on test set)\n",
    "'''\n",
    "lr = LogisticRegression(max_iter=1000) # step 1\n",
    "lr.fit(X_train, y_train) # step 2\n",
    "lr.predict(X_test) # step 3\n",
    "\n",
    "# Print results\n",
    "print('Coefficients:', lr.coef_)\n",
    "print('Intercept:', lr.intercept_)\n",
    "print('Score', lr.score(X_test, y_test))"
   ]
  }
 ],
 "metadata": {
  "kernelspec": {
   "display_name": "Python 3",
   "language": "python",
   "name": "python3"
  },
  "language_info": {
   "codemirror_mode": {
    "name": "ipython",
    "version": 3
   },
   "file_extension": ".py",
   "mimetype": "text/x-python",
   "name": "python",
   "nbconvert_exporter": "python",
   "pygments_lexer": "ipython3",
   "version": "3.8.8"
  }
 },
 "nbformat": 4,
 "nbformat_minor": 5
}
