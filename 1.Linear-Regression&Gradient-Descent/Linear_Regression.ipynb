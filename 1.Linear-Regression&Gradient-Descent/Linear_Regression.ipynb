{
 "cells": [
  {
   "cell_type": "markdown",
   "id": "2760d93c",
   "metadata": {},
   "source": [
    "## Linear Regression"
   ]
  },
  {
   "cell_type": "code",
   "execution_count": null,
   "id": "0435a69b",
   "metadata": {},
   "outputs": [],
   "source": [
    "import numpy as np\n",
    "import pandas as pd\n",
    "import matplotlib.pyplot as plt"
   ]
  },
  {
   "cell_type": "code",
   "execution_count": null,
   "id": "8f6c2e13",
   "metadata": {},
   "outputs": [],
   "source": [
    "# Original Dataset\n",
    "X = [1,2,3,4,5,6,7,8,9,10,11,12]\n",
    "y = [910, 1477, 1540, 2222, 2075, 2767, 3524, 3242, 3968, 4133, 5421, 5171]\n",
    "\n",
    "# Creating a DataFrame\n",
    "df = pd.DataFrame(zip(X,y), columns=['X', 'y'])\n",
    "df"
   ]
  },
  {
   "cell_type": "code",
   "execution_count": null,
   "id": "65d57b7d",
   "metadata": {},
   "outputs": [],
   "source": [
    "# Plot Dataset\n",
    "plt.figure(figsize=(8, 6), dpi=80)\n",
    "plt.title('Linear Regression')\n",
    "plt.scatter(X,y);"
   ]
  },
  {
   "cell_type": "code",
   "execution_count": null,
   "id": "820bf61d",
   "metadata": {},
   "outputs": [],
   "source": [
    "# Original Dataset\n",
    "X = np.array([1,2,3,4,5,6,7,8,9,10,11,12]).reshape((-1,1))\n",
    "y = np.array([910, 1477, 1540, 2222, 2075, 2767, 3524, 3242, 3968, 4133, 5421, 5171])"
   ]
  },
  {
   "cell_type": "code",
   "execution_count": null,
   "id": "83ee0e14",
   "metadata": {},
   "outputs": [],
   "source": [
    "from sklearn.linear_model import LinearRegression"
   ]
  },
  {
   "cell_type": "code",
   "execution_count": null,
   "id": "3ea6bfc6",
   "metadata": {},
   "outputs": [],
   "source": [
    "model = LinearRegression().fit(X, y)"
   ]
  },
  {
   "cell_type": "code",
   "execution_count": null,
   "id": "b8f99622",
   "metadata": {},
   "outputs": [],
   "source": [
    "r_sq = model.score(X, y)\n",
    "print('coefficient of determination:', r_sq)"
   ]
  },
  {
   "cell_type": "code",
   "execution_count": null,
   "id": "9dca6736",
   "metadata": {},
   "outputs": [],
   "source": [
    "print('intercept:', model.intercept_)\n",
    "print('slope:', model.coef_)"
   ]
  },
  {
   "cell_type": "code",
   "execution_count": null,
   "id": "bbb89562",
   "metadata": {},
   "outputs": [],
   "source": [
    "y_pred = model.predict(X)\n",
    "print('predicted response:', y_pred, sep='\\n')"
   ]
  },
  {
   "cell_type": "code",
   "execution_count": null,
   "id": "e9c5cb23",
   "metadata": {},
   "outputs": [],
   "source": [
    "y_pred = model.intercept_ + model.coef_ * X\n",
    "print('predicted response:', y_pred, sep='\\n')"
   ]
  },
  {
   "cell_type": "code",
   "execution_count": null,
   "id": "94e9d670",
   "metadata": {},
   "outputs": [],
   "source": [
    "# Plot outputs\n",
    "plt.figure(figsize=(8, 6), dpi=80)\n",
    "plt.title('Linear Regression')\n",
    "plt.scatter(X, y,  color='blue')\n",
    "plt.plot(X, y_pred, color='red', linewidth=3)\n",
    "plt.show()"
   ]
  },
  {
   "cell_type": "code",
   "execution_count": null,
   "id": "265e2adf",
   "metadata": {},
   "outputs": [],
   "source": [
    "# Linear Regression model\n",
    "import numpy as np\n",
    "import matplotlib.pyplot as plt\n",
    "from sklearn.linear_model import LinearRegression\n",
    "\n",
    "# Original Dataset\n",
    "X = np.array([1,2,3,4,5,6,7,8,9,10,11,12]).reshape((-1,1))\n",
    "y = np.array([910, 1477, 1540, 2222, 2075, 2767, 3524, 3242, 3968, 4133, 5421, 5171])\n",
    "\n",
    "# fit Linear Regression model to the data\n",
    "model = LinearRegression().fit(X, y)\n",
    "\n",
    "# Make predictions\n",
    "y_pred = model.predict(X)\n",
    "\n",
    "# Plot outputs\n",
    "plt.figure(figsize=(8, 6), dpi=80)\n",
    "plt.title('Linear Regression')\n",
    "plt.scatter(X, y,  color='blue', label='training data')\n",
    "plt.plot(X, y_pred, color='red', label='linear regression', linewidth=2)\n",
    "plt.legend(loc='upper left')\n",
    "plt.show()"
   ]
  },
  {
   "cell_type": "code",
   "execution_count": null,
   "id": "c3f45809",
   "metadata": {},
   "outputs": [],
   "source": [
    "# predicting new variable \n",
    "a = np.array(7).reshape(-1,1)\n",
    "y_pred2 = model.predict(a)\n",
    "print('predicted response:', y_pred2, sep='\\n')"
   ]
  },
  {
   "cell_type": "code",
   "execution_count": null,
   "id": "4bc2fac3",
   "metadata": {},
   "outputs": [],
   "source": [
    "X.shape[0]"
   ]
  },
  {
   "cell_type": "markdown",
   "id": "92824ed8",
   "metadata": {},
   "source": [
    "## Gradient Descent"
   ]
  },
  {
   "cell_type": "code",
   "execution_count": null,
   "id": "860b084e",
   "metadata": {},
   "outputs": [],
   "source": [
    "import numpy as np\n",
    "import random\n",
    "import sklearn\n",
    "from scipy import stats\n",
    "import matplotlib.pyplot as plt\n",
    "from sklearn.datasets import make_regression\n",
    "\n",
    "# Gradient Descent function\n",
    "def gradient_descent(alpha, x, y, ep=0.0001, max_iter=10000):\n",
    "    converged = False\n",
    "    iter = 0\n",
    "    m = x.shape[0] # number of samples\n",
    "\n",
    "    # initial theta\n",
    "    t0 = np.random.random(x.shape[1])\n",
    "    t1 = np.random.random(x.shape[1])\n",
    "\n",
    "    # total error, J(theta)\n",
    "    J = sum([(t0 + t1*x[i] - y[i])**2 for i in range(m)])\n",
    "\n",
    "    # Iterate Loop\n",
    "    while not converged:\n",
    "        # for each training sample, compute the gradient (d/d_theta j(theta))\n",
    "        grad0 = 1.0/m * sum([(t0 + t1*x[i] - y[i]) for i in range(m)]) \n",
    "        grad1 = 1.0/m * sum([(t0 + t1*x[i] - y[i])*x[i] for i in range(m)])\n",
    "\n",
    "        # update the theta_temp\n",
    "        temp0 = t0 - alpha * grad0\n",
    "        temp1 = t1 - alpha * grad1\n",
    "    \n",
    "        # update theta\n",
    "        t0 = temp0\n",
    "        t1 = temp1\n",
    "\n",
    "        # mean squared error\n",
    "        e = sum([(t0 + t1*x[i] - y[i])**2 for i in range(m)]) \n",
    "\n",
    "        if abs(J-e) <= ep:\n",
    "            print('Converged, iterations: ' + str(iter) + str('!!!'))\n",
    "            converged = True\n",
    "        \n",
    "        J = e   # update error \n",
    "        iter += 1  # update iter\n",
    "        \n",
    "        if iter == max_iter:\n",
    "            print('Max interactions exceeded!')\n",
    "            converged = True\n",
    "    \n",
    "    return t0,t1\n",
    "\n",
    "# Create sample data\n",
    "x, y = make_regression(n_samples=100, n_features=1, n_informative=1,\n",
    "                       random_state=0, noise=20)\n",
    "print('x.shape = %s y.shape = %s' %(x.shape, y.shape))\n",
    "\n",
    "alpha = 0.01 # learning rate\n",
    "\n",
    "# call gredient decent, and get intercept(=theta0) and slope(=theta1)\n",
    "theta0, theta1 = gradient_descent(alpha, x, y, ep=0.001, max_iter=1000)\n",
    "print('theta0 = %s theta1 = %s' %(theta0, theta1))\n",
    "\n",
    "# check with scipy linear regression \n",
    "slope, intercept, r_value, p_value, slope_std_error = stats.linregress(x[:,0], y)\n",
    "print('intercept = %s slope = %s' %(intercept, slope))\n",
    "\n",
    "# Hypothesis\n",
    "y_predict = theta0 + theta1*x\n",
    "\n",
    "# Plot\n",
    "plt.figure(figsize=(8, 6), dpi=80)\n",
    "plt.title('Linear Regression')\n",
    "plt.scatter(x, y, color='blue', label='training data')\n",
    "plt.plot(x, y_predict, color='red', label='linear regression', linewidth=2)\n",
    "plt.legend(loc='upper left')\n",
    "plt.show()\n",
    "print(\"Done!\")"
   ]
  },
  {
   "cell_type": "code",
   "execution_count": null,
   "id": "f6a244a9",
   "metadata": {},
   "outputs": [],
   "source": [
    "len(y_predict)"
   ]
  },
  {
   "cell_type": "code",
   "execution_count": null,
   "id": "8a499291",
   "metadata": {},
   "outputs": [],
   "source": [
    "plt.scatter(x,y)\n",
    "plt.scatter(x,y_pred)"
   ]
  },
  {
   "cell_type": "code",
   "execution_count": 45,
   "id": "6103e154",
   "metadata": {},
   "outputs": [
    {
     "name": "stdout",
     "output_type": "stream",
     "text": [
      "1.9999999999879006 -0.3333333333058288\n"
     ]
    }
   ],
   "source": [
    "'''\n",
    "Gradient Descent Algorithm\n",
    "# MSE function is being used as the Cost Function\n",
    "# Goal is to minimize this error value to obtain most accurate values for m and b\n",
    "'''\n",
    "\n",
    "import numpy as np\n",
    "import matplotlib.pyplot as plt\n",
    "\n",
    "# Data\n",
    "x = np.array([1,2,3])\n",
    "y = np.array([2,3,6])\n",
    "\n",
    "# Building the Gradient Descent function\n",
    "def gradient_descent(x, y):\n",
    "    m = 0 # Slope\n",
    "    b = 0 # y-intercept\n",
    "    \n",
    "    n = float(len(x)) # Sample size of training set\n",
    "    \n",
    "    alpha = 0.1 # Learning rate\n",
    "    epochs = 1000 # Number of iterations to perform Gradient Descent\n",
    "    \n",
    "    # Performing Gradient Descent\n",
    "    for i in range(epochs):\n",
    "        y_pred = m*x + b # Current predicted value of y\n",
    "        cost = (1/n) * sum([val**2 for val in (y - y_pred)]) # MSE function is being used as the Cost Function\n",
    "        Dm = (-2/n) * sum(x*(y - y_pred)) # Partial Derivative with respect of m\n",
    "        Db = (-2/n) * sum(y - y_pred) # Partial Derivative with respect of b\n",
    "        m = m - alpha*Dm # Updating current value of m\n",
    "        b = b - alpha*Db # Updating current value of b\n",
    "        \n",
    "        # Print results\n",
    "        # print(\"Iteration: {} m = {}, b = {}, error = {}\".format(i, m, b, cost))\n",
    "        \n",
    "    return m, b\n",
    "\n",
    "m, b = gradient_descent(x=x, y=y)\n",
    "print(m, b)"
   ]
  },
  {
   "cell_type": "code",
   "execution_count": 48,
   "id": "57eabd2c",
   "metadata": {},
   "outputs": [
    {
     "data": {
      "text/plain": [
       "[<matplotlib.lines.Line2D at 0x17acb2c47f0>]"
      ]
     },
     "execution_count": 48,
     "metadata": {},
     "output_type": "execute_result"
    },
    {
     "data": {
      "image/png": "[encoded data removed]",
      "text/plain": [
       "<Figure size 432x288 with 1 Axes>"
      ]
     },
     "metadata": {
      "needs_background": "light"
     },
     "output_type": "display_data"
    }
   ],
   "source": [
    "y_pred = m*x + b\n",
    "\n",
    "plt.scatter(x,y)\n",
    "plt.plot(x,y_pred)"
   ]
  },
  {
   "cell_type": "code",
   "execution_count": 34,
   "id": "df2034bc",
   "metadata": {},
   "outputs": [
    {
     "name": "stdout",
     "output_type": "stream",
     "text": [
      "[2 3 6] [1.5 3.  4.5] 0.5 [0.25] 0.08333333333333333\n",
      "[2 3 6] [1.5 3.  4.5] 0.0 [0.25, 0.0] 0.08333333333333333\n",
      "[2 3 6] [1.5 3.  4.5] 1.5 [0.25, 0.0, 2.25] 0.8333333333333333\n"
     ]
    }
   ],
   "source": [
    "m = 1.5 # Slope\n",
    "b = 0 # y-intercept\n",
    "n = float(len(x))\n",
    "\n",
    "y_pred = m*x + b # Current predicted value of y\n",
    "\n",
    "sq = []\n",
    "for val in (y - y_pred):\n",
    "    sq.append(val**2)\n",
    "    J = (1/n) * sum(sq)\n",
    "    print(y, y_pred, val, sq, J)\n",
    "    \n"
   ]
  },
  {
   "cell_type": "code",
   "execution_count": null,
   "id": "dd7c281f",
   "metadata": {},
   "outputs": [],
   "source": [
    "def init(n):\n",
    "    return {\"w\": np.zeros(n), \"b\": 0.0}\n",
    "\n",
    "\n",
    "def predict(x, parameters):\n",
    "    # Prediction initial value\n",
    "    prediction = 0\n",
    "    \n",
    "    # Adding multiplication of each feature with it's weight\n",
    "    for weight, feature in zip(parameters[\"w\"], x):\n",
    "        prediction += weight * feature\n",
    "        \n",
    "    # Adding bias\n",
    "    prediction += parameters[\"b\"]\n",
    "        \n",
    "    return prediction\n",
    "\n",
    "# Used features and target value\n",
    "features = [\"size\"]\n",
    "target = [\"price\"]\n",
    "\n",
    "# Slice Dataframe to separate feature vectors and target value\n",
    "X, y = df_data[features].as_matrix(), df_data[target].as_matrix()\n",
    "\n",
    "# Initialize model parameters\n",
    "n = len(features)\n",
    "model_parameters = init(n)\n",
    "\n",
    "# Make prediction for every data sample\n",
    "predictions = [predict(x, model_parameters) for x in X]"
   ]
  },
  {
   "cell_type": "code",
   "execution_count": null,
   "id": "288751a0",
   "metadata": {},
   "outputs": [],
   "source": [
    "import numpy as np\n",
    "import matplotlib.pyplot as plt\n",
    "\n",
    "# Original Dataset\n",
    "# x = np.array([1,2,3,4,5,6,7,8,9,10,11,12])\n",
    "# y = np.array([2,5,4,7,6,9,11,12,15,13,16,18])\n",
    "\n",
    "x = np.array([1,2,3,4,5])\n",
    "y = np.array([2,5,4,7,6])\n",
    "\n",
    "# Theta values\n",
    "t0 = 0 # Intercept\n",
    "t1 = 0 # Slope\n",
    "\n",
    "# Variables\n",
    "max_iter = 5 # Number of iterations\n",
    "m = len(y) # Sample size\n",
    "alpha = 0.01 # Learning rate\n",
    "\n",
    "\n",
    "\n",
    "# Loop through iterations\n",
    "# for i in range(max_iter):\n",
    "#     y_pred = t0 + t1*x\n",
    "#     J = (1/2*m) * sum([val**2 for val in (y_pred-y)])\n",
    "#     print(J)\n",
    "#     J2 = sum([(y_pred - y)**2 for i in range(m)])\n",
    "#     print(J2)\n",
    "    \n",
    "# Hypothesis\n",
    "y_pred = t0 + t1*x\n",
    "print('y_pred:', y_pred)\n",
    "print('y_actual:', y)\n",
    "print('derivative:', y_pred-y)\n",
    "\n",
    "J = 0\n",
    "for i,j in enumerate(y_pred-y):\n",
    "    d = j**2\n",
    "    print('d'+str([i])+':', d)\n",
    "    J += d\n",
    "    print('J'+str([i])+':', J,'\\n')\n",
    "\n",
    "print(J)\n",
    "\n",
    "# J = (1/2*m) * sum([val**2 for val in (y_pred-y)])\n",
    "# print(J)\n",
    "\n",
    "# Plot\n",
    "plt.scatter(x,y);\n",
    "plt.plot(x,y_pred);\n",
    "plt.show()"
   ]
  },
  {
   "cell_type": "code",
   "execution_count": null,
   "id": "e81af988",
   "metadata": {},
   "outputs": [],
   "source": []
  },
  {
   "cell_type": "code",
   "execution_count": null,
   "id": "f18576d3",
   "metadata": {},
   "outputs": [],
   "source": [
    "import numpy as np\n",
    "import matplotlib.pyplot as plt\n",
    "\n",
    "def gradient_descent(x,y):\n",
    "    t0, t1 = 0, 0 # initial theta\n",
    "    max_iter = 10000 # number of iterations\n",
    "    m = len(y) # sample size\n",
    "    alpha = 0.01 # learning rate\n",
    "    \n",
    "    # loop through iterations\n",
    "    for i in range(max_iter):\n",
    "        y_pred = t0 + t1*x\n",
    "        cost = (1/m) * sum([val**2 for val in (y_pred-y)])\n",
    "        grad0 = -(2/m) * sum(y-y_pred)\n",
    "        grad1 = -(2/m) * sum((y-y_pred)*x)\n",
    "        \n",
    "        t0 = t0 - alpha * grad0\n",
    "        t1 = t1 - alpha * grad1\n",
    "        print(\"t0 {}, t1 {}, cost {}, iteration {}\".format(t0, t1, cost, i))\n",
    "        \n",
    "    return t0, t1\n",
    "\n",
    "# Original Dataset\n",
    "x = np.array([1,2,3,4,5,6,7,8,9,10,11,12])\n",
    "y = np.array([2,5,4,7,6,9,11,12,15,13,16,18])\n",
    "\n",
    "gradient_descent(x,y)\n",
    "# (0.7878787878787747, 1.3916083916083932)"
   ]
  },
  {
   "cell_type": "code",
   "execution_count": null,
   "id": "a4323349",
   "metadata": {},
   "outputs": [],
   "source": [
    "# Assigning values to theta0, theta1\n",
    "theta0, theta1 = gradient_descent(x,y)\n",
    "\n",
    "# Hypothesis Function\n",
    "y_predict = theta0 + theta1*x\n",
    "\n",
    "# Plot\n",
    "plt.figure(figsize=(8, 6), dpi=80)\n",
    "plt.title('Linear Regression')\n",
    "plt.scatter(x, y,  color='blue', label='training data')\n",
    "plt.plot(x, y_predict, color='red', label='linear regression', linewidth=2)\n",
    "plt.legend(loc='upper left')\n",
    "plt.show()\n",
    "print(\"Done!\")"
   ]
  },
  {
   "cell_type": "code",
   "execution_count": null,
   "id": "6c12a835",
   "metadata": {},
   "outputs": [],
   "source": []
  }
 ],
 "metadata": {
  "kernelspec": {
   "display_name": "Python 3",
   "language": "python",
   "name": "python3"
  },
  "language_info": {
   "codemirror_mode": {
    "name": "ipython",
    "version": 3
   },
   "file_extension": ".py",
   "mimetype": "text/x-python",
   "name": "python",
   "nbconvert_exporter": "python",
   "pygments_lexer": "ipython3",
   "version": "3.8.8"
  }
 },
 "nbformat": 4,
 "nbformat_minor": 5
}
