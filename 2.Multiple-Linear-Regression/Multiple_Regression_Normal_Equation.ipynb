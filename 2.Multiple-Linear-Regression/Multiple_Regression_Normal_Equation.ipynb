{
 "cells": [
  {
   "cell_type": "markdown",
   "id": "0317f4a7-d99f-4f57-9f17-efdab3c76c33",
   "metadata": {},
   "source": [
    "# Multiple Regression using Normal Equation\n",
    "\n",
    "**Dataset:** [Diabetes dataset](https://scikit-learn.org/stable/modules/generated/sklearn.datasets.load_diabetes.html) from scikit-learn"
   ]
  },
  {
   "cell_type": "markdown",
   "id": "1da3b721-7e7e-493f-a224-7cb240f2edcd",
   "metadata": {},
   "source": [
    "## 1. Import libraries"
   ]
  },
  {
   "cell_type": "code",
   "execution_count": 1,
   "id": "e391f757-a5e1-42ed-9448-3904fe9de5a8",
   "metadata": {},
   "outputs": [],
   "source": [
    "import numpy as np\n",
    "import pandas as pd"
   ]
  },
  {
   "cell_type": "markdown",
   "id": "ea0e301d-09dc-43b5-93de-f28fe23f4d04",
   "metadata": {},
   "source": [
    "## 2. Build model"
   ]
  },
  {
   "cell_type": "code",
   "execution_count": 2,
   "id": "dd271b25-9726-403e-a4b0-322388233463",
   "metadata": {},
   "outputs": [],
   "source": [
    "class MultipleRegression():\n",
    "    '''\n",
    "    A class which implements multiple regression model using the normal equation.\n",
    "    '''\n",
    "    def __init__(self):\n",
    "        self.coefficients = []\n",
    "    \n",
    "    def fit(self, X, y):\n",
    "        '''\n",
    "        Used to calculate the coefficients of the multiple regression model.\n",
    "        \n",
    "        :param X: array, features\n",
    "        :param y: array, true values\n",
    "        :return: None\n",
    "        '''\n",
    "        if len(X.shape) == 1:\n",
    "            X = self._reshape_X(X)\n",
    "        \n",
    "        X = self._concatenate_ones(X)\n",
    "        self.coefficients = np.linalg.inv(X.transpose().dot(X)).dot(X.transpose()).dot(y)\n",
    "        \n",
    "    def predict(self, test_data):\n",
    "        '''\n",
    "        Makes predictions using the line equation.\n",
    "        \n",
    "        :param X: array, features\n",
    "        :return: array, predictions\n",
    "        '''\n",
    "        bias = self.coefficients[0]\n",
    "        weights = self.coefficients[1:]\n",
    "        prediction = bias\n",
    "        \n",
    "        for xi, bi in zip(test_data, weights):\n",
    "            prediction += (xi * bi)\n",
    "        return prediction\n",
    "    \n",
    "    def mean_squared_error(self, y, y_pred):\n",
    "        '''\n",
    "        Private method, used to evaluate loss at each iteration.\n",
    "\n",
    "        :param: y - array, true values\n",
    "        :param: y_hat - array, predicted values\n",
    "        :return: float\n",
    "        '''\n",
    "        error = 0\n",
    "        for i in range(len(y)):\n",
    "            error += ((y[i] - y_pred[i])**2)\n",
    "        return error / len(y)\n",
    "    \n",
    "    def _reshape_X(self, X):\n",
    "        return X.reshape(-1, 1)\n",
    "    \n",
    "    def _concatenate_ones(self, X):\n",
    "        ones = np.ones(shape = X.shape[0]).reshape(-1, 1)\n",
    "        return np.concatenate((ones, X), 1)"
   ]
  },
  {
   "cell_type": "markdown",
   "id": "9b6b1230-ff97-44c2-9c27-e1ecd7521e81",
   "metadata": {},
   "source": [
    "## 3. Load diabetes dataset"
   ]
  },
  {
   "cell_type": "code",
   "execution_count": 3,
   "id": "4bb19547-272a-4017-bd0d-4a71cdb799c6",
   "metadata": {},
   "outputs": [],
   "source": [
    "from sklearn.datasets import load_diabetes\n",
    "\n",
    "diabetes = load_diabetes()\n",
    "X = diabetes.data\n",
    "y = diabetes.target"
   ]
  },
  {
   "cell_type": "markdown",
   "id": "29f3fd68-7fda-47ae-94cd-c60bf872bbd0",
   "metadata": {},
   "source": [
    "### 3.1. Input and output shape"
   ]
  },
  {
   "cell_type": "code",
   "execution_count": 4,
   "id": "385b6a3e-aa26-4a38-9237-60585c047a49",
   "metadata": {},
   "outputs": [
    {
     "name": "stdout",
     "output_type": "stream",
     "text": [
      "(442, 10)\n",
      "(442,)\n"
     ]
    }
   ],
   "source": [
    "print(X.shape)\n",
    "print(y.shape)"
   ]
  },
  {
   "cell_type": "markdown",
   "id": "d5c97128-869a-4a28-b255-fe132c7c72ef",
   "metadata": {},
   "source": [
    "### 3.2. Feature names"
   ]
  },
  {
   "cell_type": "code",
   "execution_count": 5,
   "id": "2f21005b-3611-4904-8dcb-208cff2bd9e7",
   "metadata": {},
   "outputs": [
    {
     "data": {
      "text/plain": [
       "['age', 'sex', 'bmi', 'bp', 's1', 's2', 's3', 's4', 's5', 's6']"
      ]
     },
     "execution_count": 5,
     "metadata": {},
     "output_type": "execute_result"
    }
   ],
   "source": [
    "diabetes.feature_names"
   ]
  },
  {
   "cell_type": "markdown",
   "id": "b3db867c-5925-48d7-b2fe-8ebf37b15107",
   "metadata": {},
   "source": [
    "### 3.3. Train Test split"
   ]
  },
  {
   "cell_type": "code",
   "execution_count": 6,
   "id": "ecafb152-6853-4de7-9787-276e98e259e8",
   "metadata": {},
   "outputs": [
    {
     "name": "stdout",
     "output_type": "stream",
     "text": [
      "(353, 10)\n",
      "(353,)\n"
     ]
    }
   ],
   "source": [
    "from sklearn.model_selection import train_test_split\n",
    "\n",
    "X_train, X_test, y_train, y_test = train_test_split(X, y, test_size=0.2, random_state=42)\n",
    "\n",
    "print(X_train.shape) # 80% of data\n",
    "print(y_train.shape) # 20% of data"
   ]
  },
  {
   "cell_type": "markdown",
   "id": "2d893498-4843-4c37-a3da-62eb51eb6858",
   "metadata": {},
   "source": [
    "## 4. Create multiple regression model using MultipleRegression class"
   ]
  },
  {
   "cell_type": "code",
   "execution_count": 7,
   "id": "b6c45a9f-7380-4e17-a1bc-d5c738114528",
   "metadata": {},
   "outputs": [],
   "source": [
    "model = MultipleRegression()"
   ]
  },
  {
   "cell_type": "markdown",
   "id": "e82ecd28-a1ad-47e3-8cde-7af604055925",
   "metadata": {},
   "source": [
    "### 4.1. Fit model"
   ]
  },
  {
   "cell_type": "code",
   "execution_count": 8,
   "id": "c2d12b31-54dc-43d3-b7c4-76b1d194bce7",
   "metadata": {},
   "outputs": [],
   "source": [
    "model.fit(X_train, y_train)"
   ]
  },
  {
   "cell_type": "code",
   "execution_count": 9,
   "id": "9bb43a75-f5c7-4668-b983-94c96a7197b6",
   "metadata": {},
   "outputs": [
    {
     "data": {
      "text/plain": [
       "array([ 151.34565535,   37.90031426, -241.96624835,  542.42575342,\n",
       "        347.70830529, -931.46126093,  518.04405547,  163.40353476,\n",
       "        275.31003837,  736.18909839,   48.67112488])"
      ]
     },
     "execution_count": 9,
     "metadata": {},
     "output_type": "execute_result"
    }
   ],
   "source": [
    "model.coefficients"
   ]
  },
  {
   "cell_type": "markdown",
   "id": "9adecf10-17d2-4e12-a8a5-4435a7113643",
   "metadata": {},
   "source": [
    "## 5. Make predictions"
   ]
  },
  {
   "cell_type": "code",
   "execution_count": 10,
   "id": "28d8a532-11df-4a61-a5f3-00677cce3d41",
   "metadata": {},
   "outputs": [
    {
     "data": {
      "text/plain": [
       "210.74244148429636"
      ]
     },
     "execution_count": 10,
     "metadata": {},
     "output_type": "execute_result"
    }
   ],
   "source": [
    "model.predict(X[0])"
   ]
  },
  {
   "cell_type": "code",
   "execution_count": 11,
   "id": "ab6d39ca-fdbe-4237-8f25-def283731bf1",
   "metadata": {},
   "outputs": [],
   "source": [
    "y_pred = []\n",
    "\n",
    "for row in X_test:\n",
    "    y_pred.append(model.predict(row))"
   ]
  },
  {
   "cell_type": "code",
   "execution_count": 12,
   "id": "6a21e5a5-ce4e-433f-af54-11c6a1b9828a",
   "metadata": {},
   "outputs": [
    {
     "data": {
      "text/html": [
       "<div>\n",
       "<style scoped>\n",
       "    .dataframe tbody tr th:only-of-type {\n",
       "        vertical-align: middle;\n",
       "    }\n",
       "\n",
       "    .dataframe tbody tr th {\n",
       "        vertical-align: top;\n",
       "    }\n",
       "\n",
       "    .dataframe thead th {\n",
       "        text-align: right;\n",
       "    }\n",
       "</style>\n",
       "<table border=\"1\" class=\"dataframe\">\n",
       "  <thead>\n",
       "    <tr style=\"text-align: right;\">\n",
       "      <th></th>\n",
       "      <th>actual</th>\n",
       "      <th>predicted</th>\n",
       "    </tr>\n",
       "  </thead>\n",
       "  <tbody>\n",
       "    <tr>\n",
       "      <th>0</th>\n",
       "      <td>219.0</td>\n",
       "      <td>139.548313</td>\n",
       "    </tr>\n",
       "    <tr>\n",
       "      <th>1</th>\n",
       "      <td>70.0</td>\n",
       "      <td>179.520306</td>\n",
       "    </tr>\n",
       "    <tr>\n",
       "      <th>2</th>\n",
       "      <td>202.0</td>\n",
       "      <td>134.041333</td>\n",
       "    </tr>\n",
       "    <tr>\n",
       "      <th>3</th>\n",
       "      <td>230.0</td>\n",
       "      <td>291.411936</td>\n",
       "    </tr>\n",
       "    <tr>\n",
       "      <th>4</th>\n",
       "      <td>111.0</td>\n",
       "      <td>123.787237</td>\n",
       "    </tr>\n",
       "  </tbody>\n",
       "</table>\n",
       "</div>"
      ],
      "text/plain": [
       "   actual   predicted\n",
       "0   219.0  139.548313\n",
       "1    70.0  179.520306\n",
       "2   202.0  134.041333\n",
       "3   230.0  291.411936\n",
       "4   111.0  123.787237"
      ]
     },
     "execution_count": 12,
     "metadata": {},
     "output_type": "execute_result"
    }
   ],
   "source": [
    "df = pd.DataFrame({\n",
    "    'actual': y_test,\n",
    "    'predicted': np.ravel(y_pred)\n",
    "})\n",
    "\n",
    "df.head()"
   ]
  },
  {
   "cell_type": "markdown",
   "id": "1d302b9a-9817-41f9-a895-a50d8b1b2397",
   "metadata": {},
   "source": [
    "## 6. Evaluate model performance using Mean Squared Error"
   ]
  },
  {
   "cell_type": "code",
   "execution_count": 13,
   "id": "234dc369-486d-4bcc-9f08-f927ce6e4ac6",
   "metadata": {},
   "outputs": [
    {
     "name": "stdout",
     "output_type": "stream",
     "text": [
      "2900.1732878832368\n"
     ]
    }
   ],
   "source": [
    "mse = model.mean_squared_error(y_test, y_pred)\n",
    "print(mse)"
   ]
  },
  {
   "cell_type": "markdown",
   "id": "b0e8133d-bf4a-4c11-9f71-d485e5a11677",
   "metadata": {},
   "source": [
    "# In summary\n",
    "## 1. Create Multiple Regression class"
   ]
  },
  {
   "cell_type": "code",
   "execution_count": 14,
   "id": "b84c0530-f194-4038-adcc-67c1641d721d",
   "metadata": {},
   "outputs": [],
   "source": [
    "import numpy as np\n",
    "import pandas as pd\n",
    "\n",
    "# Create Multiple Regression model\n",
    "class MultipleRegression():\n",
    "    '''\n",
    "    A class which implements multiple regression model using the normal equation.\n",
    "    '''\n",
    "    def __init__(self):\n",
    "        self.coefficients = []\n",
    "    \n",
    "    def fit(self, X, y):\n",
    "        '''\n",
    "        Used to calculate the coefficients of the multiple regression model.\n",
    "        \n",
    "        :param X: array, features\n",
    "        :param y: array, true values\n",
    "        :return: None\n",
    "        '''\n",
    "        if len(X.shape) == 1:\n",
    "            X = self._reshape_X(X)\n",
    "        \n",
    "        X = self._concatenate_ones(X)\n",
    "        self.coefficients = np.linalg.inv(X.transpose().dot(X)).dot(X.transpose()).dot(y)\n",
    "        \n",
    "    def predict(self, test_data):\n",
    "        '''\n",
    "        Makes predictions using the line equation.\n",
    "        \n",
    "        :param X: array, features\n",
    "        :return: array, predictions\n",
    "        '''\n",
    "        bias = self.coefficients[0]\n",
    "        weights = self.coefficients[1:]\n",
    "        prediction = bias\n",
    "        \n",
    "        for xi, bi in zip(test_data, weights):\n",
    "            prediction += (xi * bi)\n",
    "        return prediction\n",
    "    \n",
    "    def mean_squared_error(self, y, y_pred):\n",
    "        '''\n",
    "        Private method, used to evaluate loss at each iteration.\n",
    "\n",
    "        :param: y - array, true values\n",
    "        :param: y_hat - array, predicted values\n",
    "        :return: float\n",
    "        '''\n",
    "        error = 0\n",
    "        for i in range(len(y)):\n",
    "            error += ((y[i] - y_pred[i])**2)\n",
    "        return error / len(y)\n",
    "    \n",
    "    def _reshape_X(self, X):\n",
    "        return X.reshape(-1, 1)\n",
    "    \n",
    "    def _concatenate_ones(self, X):\n",
    "        ones = np.ones(shape = X.shape[0]).reshape(-1, 1)\n",
    "        return np.concatenate((ones, X), 1)"
   ]
  },
  {
   "cell_type": "markdown",
   "id": "7f12209b-e287-47ae-bd92-222fbf2914ca",
   "metadata": {},
   "source": [
    "## 2. Load dataset, create model, display results"
   ]
  },
  {
   "cell_type": "code",
   "execution_count": 15,
   "id": "82d7eca7-f6cb-40d9-89ef-f5654204e9c7",
   "metadata": {},
   "outputs": [
    {
     "name": "stdout",
     "output_type": "stream",
     "text": [
      "Coefficients: [ 151.34565535   37.90031426 -241.96624835  542.42575342  347.70830529\n",
      " -931.46126093  518.04405547  163.40353476  275.31003837  736.18909839\n",
      "   48.67112488]\n",
      "Mean Squared Error: 2900.1732878832368\n"
     ]
    }
   ],
   "source": [
    "# Load diabetes dataset\n",
    "from sklearn.datasets import load_diabetes\n",
    "diabetes = load_diabetes()\n",
    "X = diabetes.data\n",
    "y = diabetes.target\n",
    "\n",
    "# Train Test split\n",
    "from sklearn.model_selection import train_test_split\n",
    "X_train, X_test, y_train, y_test = train_test_split(X, y, test_size=0.2, random_state=42)\n",
    "\n",
    "# Instantiate Multiple Regression model\n",
    "model = MultipleRegression()\n",
    "\n",
    "# Fit model\n",
    "model.fit(X_train, y_train)\n",
    "\n",
    "# Make predictions\n",
    "preds = model.predict(X_test)\n",
    "\n",
    "# Store each prediction value in a list\n",
    "y_pred = []\n",
    "for row in X_test:\n",
    "    y_pred.append(model.predict(row))\n",
    "    \n",
    "# Compare actual values with predictions\n",
    "df = pd.DataFrame({\n",
    "    'actual': y_test,\n",
    "    'predicted': np.ravel(y_pred)\n",
    "})\n",
    "# Display DataFrame\n",
    "df.head()\n",
    "\n",
    "# Calculate Mean Squared Error\n",
    "mse = model.mean_squared_error(y_test, y_pred)\n",
    "\n",
    "# Print results\n",
    "print('Coefficients:', model.coefficients)\n",
    "print('Mean Squared Error:', mse)"
   ]
  },
  {
   "cell_type": "code",
   "execution_count": null,
   "id": "c03f996a-f8fb-4574-a340-244ba6282283",
   "metadata": {},
   "outputs": [],
   "source": []
  }
 ],
 "metadata": {
  "kernelspec": {
   "display_name": "Python 3",
   "language": "python",
   "name": "python3"
  },
  "language_info": {
   "codemirror_mode": {
    "name": "ipython",
    "version": 3
   },
   "file_extension": ".py",
   "mimetype": "text/x-python",
   "name": "python",
   "nbconvert_exporter": "python",
   "pygments_lexer": "ipython3",
   "version": "3.8.8"
  }
 },
 "nbformat": 4,
 "nbformat_minor": 5
}
