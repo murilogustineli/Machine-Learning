{
 "cells": [
  {
   "cell_type": "markdown",
   "id": "edbeb780-7cf6-4c02-a573-69b10047074d",
   "metadata": {},
   "source": [
    "# Machine Learning: Week 5 - Neural Networks: Learning\n",
    "## Cost Function\n",
    "Let's first define a few variables that we will need to use:\n",
    "- $L =$ total number of layers in the network\n",
    "- $s_l =$ number of units (not counting bias unit) in layer $l$\n",
    "- $K =$ number of output units/classes\n",
    "\n",
    "Recall that in neural networks, we may have many output nodes. We denote $h_\\Theta(x)_k$ as being a hypothesis that results in the $k^{th}$ output. Our cost function for neural networks is going to be a generalization of the one we used for logistic regression. Recall that the cost function for regularized logistic regression was:\n",
    "\n",
    "$$\\large\n",
    "J( \\theta ) =-\\frac{1}{m}\\sum _{i=1}^{m}\\left[ y^{( i)} log\\left( h_{\\theta }\\left( x^{( i)}\\right)\\right) +\\left( 1-y^{( i)}\\right) log\\left( 1-h_{\\theta }\\left( x^{( i)}\\right)\\right)\\right] +\\frac{\\lambda }{2m}\\sum _{j=1}^{n} \\theta _{j}^{2}\n",
    "$$\n",
    "\n",
    "For neural networks, it is going to be slightly more complicated:\n",
    "\n",
    "$$\\large\n",
    "J( \\Theta ) =-\\frac{1}{m}\\sum _{i=1}^{m}\\sum _{k=1}^{K}\\left[ y_{k}^{( i)} log\\left(\\left( h_{\\theta }\\left( x^{( i)}\\right)\\right)_{k}\\right) +\\left( 1-y_{k}^{( i)}\\right) log\\left( 1-\\left( h_{\\theta }\\left( x^{( i)}\\right)\\right)_{k}\\right)\\right] +\\frac{\\lambda }{2m}\\sum _{l=1}^{L-1}\\sum _{i=1}^{s_{l}}\\sum _{j=1}^{s_{l+1}}\\left( \\Theta _{j,i}^{l}\\right)^{2}\n",
    "$$\n",
    "\n",
    "We have added a few nested summations to account for our multiple output nodes. In the first part of the equation, before the square brackets, we have an additional nested summation that loops through the number of output nodes.\n",
    "\n",
    "In the regularization part, after the square brackets, we must account for multiple theta matrices. The number of columns in our current theta matrix is equal to the number of nodes in our current layer (including the bias unit). The number of rows in our current theta matrix is equal to the number of nodes in the next layer (excluding the bias unit). As before with logistic regression, we square every term.\n",
    "\n",
    "Note:\n",
    "- the double sum simply adds up the logistic regression costs calculated for each cell in the output layer\n",
    "- the triple sum simply adds up the squares of all the individual $\\Theta$s in the entire network.\n",
    "- the $i$ in the triple sum does not refer to training example $i$"
   ]
  }
 ],
 "metadata": {
  "kernelspec": {
   "display_name": "Python 3",
   "language": "python",
   "name": "python3"
  },
  "language_info": {
   "codemirror_mode": {
    "name": "ipython",
    "version": 3
   },
   "file_extension": ".py",
   "mimetype": "text/x-python",
   "name": "python",
   "nbconvert_exporter": "python",
   "pygments_lexer": "ipython3",
   "version": "3.8.8"
  }
 },
 "nbformat": 4,
 "nbformat_minor": 5
}
