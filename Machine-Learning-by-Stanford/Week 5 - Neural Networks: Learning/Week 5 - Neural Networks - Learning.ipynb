{
 "cells": [
  {
   "cell_type": "markdown",
   "id": "edbeb780-7cf6-4c02-a573-69b10047074d",
   "metadata": {},
   "source": [
    "# Machine Learning: Week 5 - Neural Networks: Learning\n",
    "## Cost Function\n",
    "Let's first define a few variables that we will need to use:\n",
    "- $L =$ total number of layers in the network\n",
    "- $s_l =$ number of units (not counting bias unit) in layer $l$\n",
    "- $K =$ number of output units/classes\n",
    "\n",
    "Recall that in neural networks, we may have many output nodes. We denote $h_\\Theta(x)_k$ as being a hypothesis that results in the $k^{th}$ output. Our cost function for neural networks is going to be a generalization of the one we used for logistic regression. Recall that the cost function for regularized logistic regression was:\n",
    "\n",
    "$$\\large\n",
    "J( \\theta ) =-\\frac{1}{m}\\sum _{i=1}^{m}\\left[ y^{( i)} log\\left( h_{\\theta }\\left( x^{( i)}\\right)\\right) +\\left( 1-y^{( i)}\\right) log\\left( 1-h_{\\theta }\\left( x^{( i)}\\right)\\right)\\right] +\\frac{\\lambda }{2m}\\sum _{j=1}^{n} \\theta _{j}^{2}\n",
    "$$\n",
    "\n",
    "For neural networks, it is going to be slightly more complicated:\n",
    "\n",
    "$$\\large\n",
    "J( \\Theta ) =-\\frac{1}{m}\\sum _{i=1}^{m}\\sum _{k=1}^{K}\\left[ y_{k}^{( i)} log\\left(\\left( h_{\\theta }\\left( x^{( i)}\\right)\\right)_{k}\\right) +\\left( 1-y_{k}^{( i)}\\right) log\\left( 1-\\left( h_{\\theta }\\left( x^{( i)}\\right)\\right)_{k}\\right)\\right] +\\frac{\\lambda }{2m}\\sum _{l=1}^{L-1}\\sum _{i=1}^{s_{l}}\\sum _{j=1}^{s_{l+1}}\\left( \\Theta _{j,i}^{l}\\right)^{2}\n",
    "$$\n",
    "\n",
    "We have added a few nested summations to account for our multiple output nodes. In the first part of the equation, before the square brackets, we have an additional nested summation that loops through the number of output nodes.\n",
    "\n",
    "In the regularization part, after the square brackets, we must account for multiple theta matrices. The number of columns in our current theta matrix is equal to the number of nodes in our current layer (including the bias unit). The number of rows in our current theta matrix is equal to the number of nodes in the next layer (excluding the bias unit). As before with logistic regression, we square every term.\n",
    "\n",
    "Note:\n",
    "- the double sum simply adds up the logistic regression costs calculated for each cell in the output layer\n",
    "- the triple sum simply adds up the squares of all the individual $\\Theta$s in the entire network.\n",
    "- the $i$ in the triple sum does not refer to training example $i$\n",
    "\n",
    "\n",
    "\n",
    "## Backpropagation Algorithm\n",
    "“Backpropagation” is neural-network terminology for minimizing our cost function, just like what we were doing with gradient descent in logistic and linear regression.\n",
    "\n",
    "Our goal is to compute:\n",
    "\n",
    "$$\\large\n",
    "min_\\Theta J(\\Theta)\n",
    "$$\n",
    "\n",
    "That is, we want to minimize our cost function J using an optimal set of parameters in theta. In this section we'll look at the equations we use to compute the partial derivative of $J(\\Theta($:\n",
    "\n",
    "$$\\large\n",
    "\\frac{\\partial }{\\partial \\Theta _{ij}^{( l)}} J( \\Theta )\n",
    "$$\n",
    "\n",
    "To do so, we use the following algorithm:\n",
    "\n",
    "![backpropagation_algo](./Week5_Images/backpropagation_algo.png)\n",
    "\n",
    "<br>\n",
    "\n",
    "![gradient_computation](./Week5_Images/gradient_computation.png)\n",
    "\n",
    "### Backpropagation Algorithm\n",
    "In back propagation we’re going to compute for every node:\n",
    "\n",
    "$$\\large\n",
    "\\delta^{(l)}_j = error\\ \\ of\\ \\ node\\ \\ j\\ \\ in\\ \\ layer\\ \\ l\n",
    "$$\n",
    "\n",
    "Recall that $a^{(l)}_j$ is activation node $j$ in layer $l$.\n",
    "\n",
    "For the last layer, we can compute the vector of delta values with:\n",
    "\n",
    "$$\\large\n",
    "\\delta^{(L)} = a^{(L)} - y^{(t)}\n",
    "$$\n",
    "\n",
    "Where L is our total number of layers and $a^{(L)}$ is the vector of outputs of the activation units for the last layer. So our “error values” for the last layer are simply the differences of our actual results in the last layer and the correct outputs in $y$.\n",
    "\n",
    "To get the delta values of the layers before the last layer, we can use an equation that steps us back from right to left:\n",
    "\n",
    "$$\\large\n",
    "g'( u) =g( u) .*( 1-g( u))\n",
    "$$\n",
    "\n",
    "The full back propagation equation for the inner nodes is then:\n",
    "\n",
    "$$\\large\n",
    "\\delta^{(l)} = ((\\Theta^{(l)})^T \\delta^{(l+1)})\\ .*\\ a^{(l)}\\ .*\\ (1 - a^{(l)})\n",
    "$$\n",
    "\n",
    "Andrew Ng states that the derivation and proofs are complicated and involved, but you can still implement the above equations to do back propagation without knowing the details.\n",
    "\n",
    "We can compute our partial derivative terms by multiplying our activation values and our error values for each training example $t$:\n",
    "\n",
    "$$\\large\n",
    "\\frac{\\partial J( \\Theta )}{\\partial \\Theta _{ij}^{( l)}} =\\frac{1}{m}\\sum _{t=1}^{m} a_{k}^{( t)( l)} \\delta ^{( t)( l-1)}\n",
    "$$\n",
    "\n",
    "Note: $\\delta^{(l+1)}$ and $a^{(l+1)}$ are vectors with $s^{(l+1)}$ elements. Similarly, $(a^{(l)})$ is a vector with sl elements. Multiplying them produces a matrix that is $s^{(l+1)}$ by $s^l$ which is the same dimension as $\\Theta^{(l)}$. That is, the process produces a gradient term for every element in $\\Theta^{(l)}$. (Actually, $\\Theta^{(l)}$ has $s^{(l + 1)}$ column, so the dimensionality is not exactly the same).\n",
    "\n",
    "We can now take all these equations and put them together into a backpropagation algorithm:\n",
    "\n",
    "\n",
    "### Backpropagation Algorithm\n",
    "Given training set ${(x(1),y(1))...(x(m),y(m))}$\n",
    "- Set $\\Delta^{(l)}_{i,j}:=0$ for all $(l,i,j)$\n",
    "\n",
    "For training example t =1 to m:\n",
    "- Set $a^{(1)}:=x^{(t)}$\n",
    "\n",
    "- Perform forward propagation to compute $a^{(l)}$ for $l=2,3,...,L$\n",
    "\n",
    "- Using $y^{(t)}$, compute $\\delta ^{( L)} =a^{( L)} -y^{( t)}$\n",
    "\n",
    "- Compute $\\delta ^{( L-1)} ,\\delta ^{( L-2)} ,...,\\delta ^{( 2)}$ using $\\delta ^{( l)} =\\left(\\left( \\Theta ^{( l)}\\right)^{T} \\delta ^{( l+1)}\\right) .*a^{( l)} .*( 1-a)$\n",
    "\n",
    "- $\\Delta^{(l)}_{i,j}:= \\Delta^{(l)}_{i,j} + a^{(l)}_j \\delta^{(l+1)}_i$ or with vectorization, $\\Delta^{(l)}:=\\Delta^{(l)}+\\delta^{(l+1)}(a^{(l)})T$\n",
    "\n",
    "- $D_{i,j}^{( l)} :=\\frac{1}{m}\\left( \\Delta _{i,j}^{( l)} +\\lambda \\Theta _{i,j}^{( l)}\\right) \\ \\ if\\ \\ j\\neq 0$\n",
    "\n",
    "- $D_{i,j}^{( l)} :=\\frac{1}{m} \\Delta _{i,j}^{( l)} \\ \\ if\\ \\ j=0$\n",
    "\n",
    "The capital-delta matrix is used as an “accumulator” to add up our values as we go along and eventually compute our partial derivative.\n",
    "\n",
    "The actual proof is quite involved, but, the $\\Delta^{(l)}_{i,j}$ terms are the partial derivatives and the results we are looking for:\n",
    "\n",
    "$$\\large\n",
    "D_{i,j}^{( l)} =\\frac{\\partial J( \\Theta )}{\\partial \\Theta _{i,j}^{( l)}}\n",
    "$$\n",
    "\n",
    "\n",
    "## Backpropagation Intuition\n",
    "Recall that the cost function for a neural network is:\n",
    "\n",
    "$$\\large\n",
    "J( \\Theta ) =-\\frac{1}{m}\\sum _{i=1}^{m}\\sum _{k=1}^{K}\\left[ y_{k}^{( i)} log\\left(\\left( h_{\\theta }\\left( x^{( i)}\\right)\\right)_{k}\\right) +\\left( 1-y_{k}^{( i)}\\right) log\\left( 1-\\left( h_{\\theta }\\left( x^{( i)}\\right)\\right)_{k}\\right)\\right] +\\frac{\\lambda }{2m}\\sum _{l=1}^{L-1}\\sum _{i=1}^{s_{l}}\\sum _{j=1}^{s_{l+1}}\\left( \\Theta _{j,i}^{l}\\right)^{2}\n",
    "$$\n",
    "\n",
    "If we consider simple non-multiclass classification $(k = 1)$ and disregard regularization, the cost is computed with:\n",
    "\n",
    "$$\\large\n",
    "cost( t) =y^{( t)} log\\left( h_{\\Theta }\\left( x^{( t)}\\right)\\right) +\\left( 1-y^{( t)}\\right) log\\left( 1-h_{\\Theta }\\left( x^{( t)}\\right)\\right)\n",
    "$$\n",
    "\n",
    "Intuitively, $\\delta_j^{(l)}$ is the \"error\" for $a^{(l)}_j$ (unit $j$ in layer $l$). More formally, the delta values are actually the derivative of the cost function:\n",
    "\n",
    "$$\\large\n",
    "\\delta _{j}^{( l)} =\\frac{\\partial }{\\partial z_{j}^{( l)}} cost( t)\n",
    "$$\n",
    "\n",
    "Recall that our derivative is the slope of a line tangent to the cost function, so the steeper the slope the more incorrect we are. Let us consider the following neural network below and see how we could calculate some $\\delta_j^{(l)}$:\n",
    "\n",
    "![forward_propagation](./Week5_Images/forward_propagation.png)\n",
    "\n",
    "In the image above, to calculate $\\delta_2^{(2)}$, we multiply the weights $\\Theta^{(2)}_{12}$ and $\\Theta^{(2)}_{22}$ by their respective $\\delta$ values found to the right of each edge. So we get $\\delta _{2}^{( 2)} =\\Theta _{12}^{( 2)} *\\delta _{1}^{( 3)} +\\Theta _{22}^{( 2)} *\\delta _{2}^{( 3)}$. To calculate every single possible $\\delta_j^{(l)}$, we could start from the right of our diagram. We can think of our edges as our $\\Theta_{ij}$. Going from right to left, to calculate the value of $\\delta^{(l)}_j$, you can just take the over all sum of each weight times the $\\delta$ it is coming from. Hence, another example would be $\\delta _{2}^{( 3)} =\\Theta _{12}^{( 3)} *\\delta _{1}^{( 4)}$\n",
    "\n",
    "## Putting it Together\n",
    "First, pick a network architecture; choose the layout of your neural network, including how many hidden units in each layer and how many layers total.\n",
    "- Number of input units = dimension of features x(i)\n",
    "- Number of output units = number of classes\n",
    "- Number of hidden units per layer = usually more the better (must balance with cost of computation as it increases with more hidden units)\n",
    "- Defaults: 1 hidden layer. If more than 1 hidden layer, then the same number of units in every hidden layer.\n",
    "\n",
    "### Training a Neural Network\n",
    "1. Randomly initialize the weights\n",
    "2. Implement forward propagation to get hθ(x(i))\n",
    "3. Implement the cost function\n",
    "4. Implement backpropagation to compute partial derivatives\n",
    "5. Use gradient checking to confirm that your backpropagation works. Then disable gradient checking.\n",
    "6. Use gradient descent or a built-in optimization function to minimize the cost function with the weights in theta.\n",
    "\n",
    "When we perform forward and back propagation, we loop on every training example:"
   ]
  },
  {
   "cell_type": "markdown",
   "id": "91a8852a-92a9-4b85-83a4-1a3712094b49",
   "metadata": {},
   "source": [
    "```\n",
    "for i = 1:m,\n",
    "   Perform forward propagation and backpropagation using example (x(i),y(i))\n",
    "   (Get activations a(l) and delta terms d(l) for l = 2,...,L\n",
    "```"
   ]
  },
  {
   "cell_type": "markdown",
   "id": "59a81697-f417-4b94-b6a2-166cd02b09c3",
   "metadata": {},
   "source": [
    "## Implementation"
   ]
  },
  {
   "cell_type": "code",
   "execution_count": 1,
   "id": "ed9ca975-9e31-4fe3-9a13-f6efbec4469f",
   "metadata": {},
   "outputs": [],
   "source": [
    "import numpy as np"
   ]
  },
  {
   "cell_type": "code",
   "execution_count": 2,
   "id": "ea6c6f0a-2aae-4b6e-9acb-2f0c5bf7a93b",
   "metadata": {},
   "outputs": [],
   "source": [
    "theta1 = np.ones([10,11])\n",
    "theta2 = 2*(np.ones([10,11]))\n",
    "theta3 = 3*(np.ones([1,11]))"
   ]
  },
  {
   "cell_type": "code",
   "execution_count": 3,
   "id": "c6cfb938-0284-42a9-a0f1-3f3278d7a439",
   "metadata": {},
   "outputs": [
    {
     "data": {
      "text/plain": [
       "array([[1., 1., 1., 1., 1., 1., 1., 1., 1., 1., 1.],\n",
       "       [1., 1., 1., 1., 1., 1., 1., 1., 1., 1., 1.],\n",
       "       [1., 1., 1., 1., 1., 1., 1., 1., 1., 1., 1.],\n",
       "       [1., 1., 1., 1., 1., 1., 1., 1., 1., 1., 1.],\n",
       "       [1., 1., 1., 1., 1., 1., 1., 1., 1., 1., 1.],\n",
       "       [1., 1., 1., 1., 1., 1., 1., 1., 1., 1., 1.],\n",
       "       [1., 1., 1., 1., 1., 1., 1., 1., 1., 1., 1.],\n",
       "       [1., 1., 1., 1., 1., 1., 1., 1., 1., 1., 1.],\n",
       "       [1., 1., 1., 1., 1., 1., 1., 1., 1., 1., 1.],\n",
       "       [1., 1., 1., 1., 1., 1., 1., 1., 1., 1., 1.]])"
      ]
     },
     "execution_count": 3,
     "metadata": {},
     "output_type": "execute_result"
    }
   ],
   "source": [
    "theta1"
   ]
  },
  {
   "cell_type": "code",
   "execution_count": 4,
   "id": "85c42915-4638-44d9-9691-0e9e30f7f171",
   "metadata": {},
   "outputs": [
    {
     "data": {
      "text/plain": [
       "array([[2., 2., 2., 2., 2., 2., 2., 2., 2., 2., 2.],\n",
       "       [2., 2., 2., 2., 2., 2., 2., 2., 2., 2., 2.],\n",
       "       [2., 2., 2., 2., 2., 2., 2., 2., 2., 2., 2.],\n",
       "       [2., 2., 2., 2., 2., 2., 2., 2., 2., 2., 2.],\n",
       "       [2., 2., 2., 2., 2., 2., 2., 2., 2., 2., 2.],\n",
       "       [2., 2., 2., 2., 2., 2., 2., 2., 2., 2., 2.],\n",
       "       [2., 2., 2., 2., 2., 2., 2., 2., 2., 2., 2.],\n",
       "       [2., 2., 2., 2., 2., 2., 2., 2., 2., 2., 2.],\n",
       "       [2., 2., 2., 2., 2., 2., 2., 2., 2., 2., 2.],\n",
       "       [2., 2., 2., 2., 2., 2., 2., 2., 2., 2., 2.]])"
      ]
     },
     "execution_count": 4,
     "metadata": {},
     "output_type": "execute_result"
    }
   ],
   "source": [
    "theta2"
   ]
  },
  {
   "cell_type": "code",
   "execution_count": 5,
   "id": "53d0b4fa-92e2-4536-85b2-a5f5759f9302",
   "metadata": {},
   "outputs": [
    {
     "data": {
      "text/plain": [
       "array([[3., 3., 3., 3., 3., 3., 3., 3., 3., 3., 3.]])"
      ]
     },
     "execution_count": 5,
     "metadata": {},
     "output_type": "execute_result"
    }
   ],
   "source": [
    "theta3"
   ]
  },
  {
   "cell_type": "code",
   "execution_count": 6,
   "id": "cd87e604-cfa3-466a-a594-10defd93f559",
   "metadata": {},
   "outputs": [],
   "source": [
    "thetaVec = np.array([theta1, theta2, theta3], dtype=object)"
   ]
  },
  {
   "cell_type": "code",
   "execution_count": 7,
   "id": "195dea91-c8b1-4540-84b1-1a7f0f0be3fc",
   "metadata": {},
   "outputs": [
    {
     "name": "stdout",
     "output_type": "stream",
     "text": [
      "Number of elements in array: 231\n"
     ]
    }
   ],
   "source": [
    "count = 0\n",
    "for i in thetaVec:\n",
    "    for j in i:\n",
    "        count += len(j)\n",
    "        \n",
    "print(\"Number of elements in array:\", count)"
   ]
  },
  {
   "cell_type": "code",
   "execution_count": 8,
   "id": "8bce9f03-e3d1-4a7a-9acd-86b859233289",
   "metadata": {},
   "outputs": [
    {
     "data": {
      "text/plain": [
       "array([array([[1., 1., 1., 1., 1., 1., 1., 1., 1., 1., 1.],\n",
       "              [1., 1., 1., 1., 1., 1., 1., 1., 1., 1., 1.],\n",
       "              [1., 1., 1., 1., 1., 1., 1., 1., 1., 1., 1.],\n",
       "              [1., 1., 1., 1., 1., 1., 1., 1., 1., 1., 1.],\n",
       "              [1., 1., 1., 1., 1., 1., 1., 1., 1., 1., 1.],\n",
       "              [1., 1., 1., 1., 1., 1., 1., 1., 1., 1., 1.],\n",
       "              [1., 1., 1., 1., 1., 1., 1., 1., 1., 1., 1.],\n",
       "              [1., 1., 1., 1., 1., 1., 1., 1., 1., 1., 1.],\n",
       "              [1., 1., 1., 1., 1., 1., 1., 1., 1., 1., 1.],\n",
       "              [1., 1., 1., 1., 1., 1., 1., 1., 1., 1., 1.]]),\n",
       "       array([[2., 2., 2., 2., 2., 2., 2., 2., 2., 2., 2.],\n",
       "              [2., 2., 2., 2., 2., 2., 2., 2., 2., 2., 2.],\n",
       "              [2., 2., 2., 2., 2., 2., 2., 2., 2., 2., 2.],\n",
       "              [2., 2., 2., 2., 2., 2., 2., 2., 2., 2., 2.],\n",
       "              [2., 2., 2., 2., 2., 2., 2., 2., 2., 2., 2.],\n",
       "              [2., 2., 2., 2., 2., 2., 2., 2., 2., 2., 2.],\n",
       "              [2., 2., 2., 2., 2., 2., 2., 2., 2., 2., 2.],\n",
       "              [2., 2., 2., 2., 2., 2., 2., 2., 2., 2., 2.],\n",
       "              [2., 2., 2., 2., 2., 2., 2., 2., 2., 2., 2.],\n",
       "              [2., 2., 2., 2., 2., 2., 2., 2., 2., 2., 2.]]),\n",
       "       array([[3., 3., 3., 3., 3., 3., 3., 3., 3., 3., 3.]])],\n",
       "      dtype=object)"
      ]
     },
     "execution_count": 8,
     "metadata": {},
     "output_type": "execute_result"
    }
   ],
   "source": [
    "thetaVec"
   ]
  },
  {
   "cell_type": "code",
   "execution_count": 9,
   "id": "972eec04-9bad-46da-82ca-37c419b29083",
   "metadata": {},
   "outputs": [
    {
     "data": {
      "text/plain": [
       "3.0001000000000055"
      ]
     },
     "execution_count": 9,
     "metadata": {},
     "output_type": "execute_result"
    }
   ],
   "source": [
    "((1+0.01)**3-(1-0.01)**3)/(2*0.01)"
   ]
  },
  {
   "cell_type": "code",
   "execution_count": 11,
   "id": "cbd92d95-ac4d-493d-a19b-f59af593448b",
   "metadata": {},
   "outputs": [
    {
     "data": {
      "text/plain": [
       "75.00009999999904"
      ]
     },
     "execution_count": 11,
     "metadata": {},
     "output_type": "execute_result"
    }
   ],
   "source": [
    "j = 3*1 +2\n",
    "((j+0.01)**3-(j-0.01)**3)/(2*0.01)"
   ]
  },
  {
   "cell_type": "code",
   "execution_count": null,
   "id": "4383a4a1-970c-4545-87b8-5203ba5317ec",
   "metadata": {},
   "outputs": [],
   "source": []
  }
 ],
 "metadata": {
  "kernelspec": {
   "display_name": "Python 3",
   "language": "python",
   "name": "python3"
  },
  "language_info": {
   "codemirror_mode": {
    "name": "ipython",
    "version": 3
   },
   "file_extension": ".py",
   "mimetype": "text/x-python",
   "name": "python",
   "nbconvert_exporter": "python",
   "pygments_lexer": "ipython3",
   "version": "3.8.8"
  }
 },
 "nbformat": 4,
 "nbformat_minor": 5
}
