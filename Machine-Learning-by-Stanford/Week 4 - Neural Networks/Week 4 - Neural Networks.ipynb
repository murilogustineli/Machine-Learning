{
 "cells": [
  {
   "cell_type": "markdown",
   "id": "cc2d59ce-e648-4538-8387-bfa27c5a8499",
   "metadata": {},
   "source": [
    "# Machine Learning: Week 4 - Neural Networks\n",
    "## Non-linear Hypothesis\n",
    "Performing linear regression with a complex set of data with many features is very unwieldy. Say you wanted to create a hypothesis from three (3) features that included all the quadratic terms:\n",
    "\n",
    "$$\\large\n",
    "g( \\theta _{0} +\\theta _{1} x_{1}^{2} +\\theta _{2} x_{1} x_{2} +\\theta _{3} x_{1} x_{3} +\\theta _{4} x_{2}^{2} +_{\\theta }{}_{5} x_{2} x_{3} +\\theta _{6} x_{3}^{2}\n",
    "$$\n",
    "\n",
    "\n",
    "That gives us 6 features. The exact way to calculate how many features for all polynomial terms is the combination function with repetition: http://www.mathsisfun.com/combinatorics/combinations-permutations.html $\\frac{( n+r-1) !}{r!( n-1)!}$. In this case we are taking all two-element combinations of three features: $\\frac{( 3+2-1) !}{( 2!( 3-1) !)} =\\frac{4!}{4} =6$\n",
    "\n",
    "For 100 features, if we wanted to make them quadratic we would get $\\frac{( 100+2-1) !}{( 2!( 100-1) !)} =5050$\n",
    "\n",
    "We can approximate the growth of the number of new features we get with all quadratic terms with $O(n^2/2)$. And if you wanted to include all cubic terms in your hypothesis, the features would grow asymptotically at $On^3)$. These are very steep growths, so as the number of our features increase, the number of quadratic or cubic features increase very rapidly and becomes quickly impractical.\n",
    "\n",
    "Example: let our training set be a collection of $50 \\times 50$ pixel black-and-white photographs, and our goal will be to classify which ones are photos of cars. Our feature set size is then $n = 2500$ if we compare every pair of pixels.\n",
    "\n",
    "Now let’s say we need to make a quadratic hypothesis function. With quadratic features, our growth is $O(n^2/2)$. So our total features will be about $25002/2=3125000$, which is very impractical.\n",
    "\n",
    "Neural networks offers an alternate way to perform machine learning when we have complex hypotheses with many features.\n",
    "\n",
    "## Neurons and the Brain\n",
    "Neural networks are limited imitations of how our own brains work. They’ve had a big recent resurgence because of advances in computer hardware.\n",
    "\n",
    "There is evidence that the brain uses only one “learning algorithm” for all its different functions. Scientists have tried cutting (in an animal brain) the connection between the ears and the auditory cortex and rewiring the optical nerve with the auditory cortex to find that the auditory cortex literally learns to see.\n",
    "\n",
    "This principle is called “neuroplasticity” and has many examples and experimental evidence.\n",
    "\n",
    "## Model Representation I\n"
   ]
  },
  {
   "cell_type": "code",
   "execution_count": null,
   "id": "39a9fad8-903f-4289-ae26-d49d294f982b",
   "metadata": {},
   "outputs": [],
   "source": []
  }
 ],
 "metadata": {
  "kernelspec": {
   "display_name": "Python 3",
   "language": "python",
   "name": "python3"
  },
  "language_info": {
   "codemirror_mode": {
    "name": "ipython",
    "version": 3
   },
   "file_extension": ".py",
   "mimetype": "text/x-python",
   "name": "python",
   "nbconvert_exporter": "python",
   "pygments_lexer": "ipython3",
   "version": "3.8.8"
  }
 },
 "nbformat": 4,
 "nbformat_minor": 5
}
